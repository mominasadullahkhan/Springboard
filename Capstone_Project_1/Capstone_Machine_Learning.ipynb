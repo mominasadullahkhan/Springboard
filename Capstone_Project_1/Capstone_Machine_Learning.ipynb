{
 "cells": [
  {
   "cell_type": "markdown",
   "metadata": {},
   "source": [
    "### Import Libraries"
   ]
  },
  {
   "cell_type": "code",
   "execution_count": 202,
   "metadata": {},
   "outputs": [],
   "source": [
    "import numpy as np\n",
    "import pandas as pd\n",
    "import matplotlib.pyplot as plt\n",
    "import seaborn as sns\n",
    "from sklearn.model_selection import train_test_split\n",
    "from sklearn.preprocessing import StandardScaler, RobustScaler # Which one should i use? \n",
    "from sklearn.model_selection import KFold, cross_val_score\n",
    "from sklearn.linear_model import LogisticRegression\n",
    "from sklearn.metrics import accuracy_score\n",
    "from sklearn.metrics import roc_auc_score\n",
    "from sklearn.metrics import classification_report\n",
    "from sklearn.ensemble import RandomForestClassifier\n",
    "from sklearn.model_selection import GridSearchCV\n",
    "from sklearn.metrics import confusion_matrix"
   ]
  },
  {
   "cell_type": "markdown",
   "metadata": {},
   "source": [
    "### Load the data"
   ]
  },
  {
   "cell_type": "code",
   "execution_count": 203,
   "metadata": {},
   "outputs": [
    {
     "data": {
      "text/html": [
       "<div>\n",
       "<style scoped>\n",
       "    .dataframe tbody tr th:only-of-type {\n",
       "        vertical-align: middle;\n",
       "    }\n",
       "\n",
       "    .dataframe tbody tr th {\n",
       "        vertical-align: top;\n",
       "    }\n",
       "\n",
       "    .dataframe thead th {\n",
       "        text-align: right;\n",
       "    }\n",
       "</style>\n",
       "<table border=\"1\" class=\"dataframe\">\n",
       "  <thead>\n",
       "    <tr style=\"text-align: right;\">\n",
       "      <th></th>\n",
       "      <th>Exited</th>\n",
       "      <th>CustomerId</th>\n",
       "      <th>Surname</th>\n",
       "      <th>CreditScore</th>\n",
       "      <th>Geography</th>\n",
       "      <th>Gender</th>\n",
       "      <th>Age</th>\n",
       "      <th>Tenure</th>\n",
       "      <th>Balance</th>\n",
       "      <th>NumOfProducts</th>\n",
       "      <th>HasCrCard</th>\n",
       "      <th>IsActiveMember</th>\n",
       "      <th>EstimatedSalary</th>\n",
       "    </tr>\n",
       "  </thead>\n",
       "  <tbody>\n",
       "    <tr>\n",
       "      <th>0</th>\n",
       "      <td>1</td>\n",
       "      <td>15634602</td>\n",
       "      <td>Hargrave</td>\n",
       "      <td>619</td>\n",
       "      <td>0</td>\n",
       "      <td>1</td>\n",
       "      <td>42</td>\n",
       "      <td>2</td>\n",
       "      <td>0.00</td>\n",
       "      <td>1</td>\n",
       "      <td>1</td>\n",
       "      <td>1</td>\n",
       "      <td>101348.88</td>\n",
       "    </tr>\n",
       "    <tr>\n",
       "      <th>1</th>\n",
       "      <td>0</td>\n",
       "      <td>15647311</td>\n",
       "      <td>Hill</td>\n",
       "      <td>608</td>\n",
       "      <td>2</td>\n",
       "      <td>1</td>\n",
       "      <td>41</td>\n",
       "      <td>1</td>\n",
       "      <td>83807.86</td>\n",
       "      <td>1</td>\n",
       "      <td>0</td>\n",
       "      <td>1</td>\n",
       "      <td>112542.58</td>\n",
       "    </tr>\n",
       "    <tr>\n",
       "      <th>2</th>\n",
       "      <td>1</td>\n",
       "      <td>15619304</td>\n",
       "      <td>Onio</td>\n",
       "      <td>502</td>\n",
       "      <td>0</td>\n",
       "      <td>1</td>\n",
       "      <td>42</td>\n",
       "      <td>8</td>\n",
       "      <td>159660.80</td>\n",
       "      <td>3</td>\n",
       "      <td>1</td>\n",
       "      <td>0</td>\n",
       "      <td>113931.57</td>\n",
       "    </tr>\n",
       "    <tr>\n",
       "      <th>3</th>\n",
       "      <td>0</td>\n",
       "      <td>15701354</td>\n",
       "      <td>Boni</td>\n",
       "      <td>699</td>\n",
       "      <td>0</td>\n",
       "      <td>1</td>\n",
       "      <td>39</td>\n",
       "      <td>1</td>\n",
       "      <td>0.00</td>\n",
       "      <td>2</td>\n",
       "      <td>0</td>\n",
       "      <td>0</td>\n",
       "      <td>93826.63</td>\n",
       "    </tr>\n",
       "    <tr>\n",
       "      <th>4</th>\n",
       "      <td>0</td>\n",
       "      <td>15737888</td>\n",
       "      <td>Mitchell</td>\n",
       "      <td>850</td>\n",
       "      <td>2</td>\n",
       "      <td>1</td>\n",
       "      <td>43</td>\n",
       "      <td>2</td>\n",
       "      <td>125510.82</td>\n",
       "      <td>1</td>\n",
       "      <td>1</td>\n",
       "      <td>1</td>\n",
       "      <td>79084.10</td>\n",
       "    </tr>\n",
       "  </tbody>\n",
       "</table>\n",
       "</div>"
      ],
      "text/plain": [
       "   Exited  CustomerId   Surname  CreditScore  Geography  Gender  Age  Tenure  \\\n",
       "0       1    15634602  Hargrave          619          0       1   42       2   \n",
       "1       0    15647311      Hill          608          2       1   41       1   \n",
       "2       1    15619304      Onio          502          0       1   42       8   \n",
       "3       0    15701354      Boni          699          0       1   39       1   \n",
       "4       0    15737888  Mitchell          850          2       1   43       2   \n",
       "\n",
       "     Balance  NumOfProducts  HasCrCard  IsActiveMember  EstimatedSalary  \n",
       "0       0.00              1          1               1        101348.88  \n",
       "1   83807.86              1          0               1        112542.58  \n",
       "2  159660.80              3          1               0        113931.57  \n",
       "3       0.00              2          0               0         93826.63  \n",
       "4  125510.82              1          1               1         79084.10  "
      ]
     },
     "execution_count": 203,
     "metadata": {},
     "output_type": "execute_result"
    }
   ],
   "source": [
    "# Read the data\n",
    "df = pd.read_csv('Churn_Modelling_v1.csv')\n",
    "df.head()"
   ]
  },
  {
   "cell_type": "code",
   "execution_count": 204,
   "metadata": {},
   "outputs": [
    {
     "data": {
      "text/html": [
       "<div>\n",
       "<style scoped>\n",
       "    .dataframe tbody tr th:only-of-type {\n",
       "        vertical-align: middle;\n",
       "    }\n",
       "\n",
       "    .dataframe tbody tr th {\n",
       "        vertical-align: top;\n",
       "    }\n",
       "\n",
       "    .dataframe thead th {\n",
       "        text-align: right;\n",
       "    }\n",
       "</style>\n",
       "<table border=\"1\" class=\"dataframe\">\n",
       "  <thead>\n",
       "    <tr style=\"text-align: right;\">\n",
       "      <th></th>\n",
       "      <th>Exited</th>\n",
       "      <th>CustomerId</th>\n",
       "      <th>CreditScore</th>\n",
       "      <th>Geography</th>\n",
       "      <th>Gender</th>\n",
       "      <th>Age</th>\n",
       "      <th>Tenure</th>\n",
       "      <th>Balance</th>\n",
       "      <th>NumOfProducts</th>\n",
       "      <th>HasCrCard</th>\n",
       "      <th>IsActiveMember</th>\n",
       "      <th>EstimatedSalary</th>\n",
       "    </tr>\n",
       "  </thead>\n",
       "  <tbody>\n",
       "    <tr>\n",
       "      <th>count</th>\n",
       "      <td>10000.000000</td>\n",
       "      <td>1.000000e+04</td>\n",
       "      <td>10000.000000</td>\n",
       "      <td>10000.000000</td>\n",
       "      <td>10000.000000</td>\n",
       "      <td>10000.000000</td>\n",
       "      <td>10000.000000</td>\n",
       "      <td>10000.000000</td>\n",
       "      <td>10000.000000</td>\n",
       "      <td>10000.00000</td>\n",
       "      <td>10000.000000</td>\n",
       "      <td>10000.000000</td>\n",
       "    </tr>\n",
       "    <tr>\n",
       "      <th>mean</th>\n",
       "      <td>0.203700</td>\n",
       "      <td>1.569094e+07</td>\n",
       "      <td>650.528800</td>\n",
       "      <td>0.746300</td>\n",
       "      <td>0.454300</td>\n",
       "      <td>38.921800</td>\n",
       "      <td>5.012800</td>\n",
       "      <td>76485.889288</td>\n",
       "      <td>1.530200</td>\n",
       "      <td>0.70550</td>\n",
       "      <td>0.515100</td>\n",
       "      <td>100090.239881</td>\n",
       "    </tr>\n",
       "    <tr>\n",
       "      <th>std</th>\n",
       "      <td>0.402769</td>\n",
       "      <td>7.193619e+04</td>\n",
       "      <td>96.653299</td>\n",
       "      <td>0.827529</td>\n",
       "      <td>0.497932</td>\n",
       "      <td>10.487806</td>\n",
       "      <td>2.892174</td>\n",
       "      <td>62397.405202</td>\n",
       "      <td>0.581654</td>\n",
       "      <td>0.45584</td>\n",
       "      <td>0.499797</td>\n",
       "      <td>57510.492818</td>\n",
       "    </tr>\n",
       "    <tr>\n",
       "      <th>min</th>\n",
       "      <td>0.000000</td>\n",
       "      <td>1.556570e+07</td>\n",
       "      <td>350.000000</td>\n",
       "      <td>0.000000</td>\n",
       "      <td>0.000000</td>\n",
       "      <td>18.000000</td>\n",
       "      <td>0.000000</td>\n",
       "      <td>0.000000</td>\n",
       "      <td>1.000000</td>\n",
       "      <td>0.00000</td>\n",
       "      <td>0.000000</td>\n",
       "      <td>11.580000</td>\n",
       "    </tr>\n",
       "    <tr>\n",
       "      <th>25%</th>\n",
       "      <td>0.000000</td>\n",
       "      <td>1.562853e+07</td>\n",
       "      <td>584.000000</td>\n",
       "      <td>0.000000</td>\n",
       "      <td>0.000000</td>\n",
       "      <td>32.000000</td>\n",
       "      <td>3.000000</td>\n",
       "      <td>0.000000</td>\n",
       "      <td>1.000000</td>\n",
       "      <td>0.00000</td>\n",
       "      <td>0.000000</td>\n",
       "      <td>51002.110000</td>\n",
       "    </tr>\n",
       "    <tr>\n",
       "      <th>50%</th>\n",
       "      <td>0.000000</td>\n",
       "      <td>1.569074e+07</td>\n",
       "      <td>652.000000</td>\n",
       "      <td>0.000000</td>\n",
       "      <td>0.000000</td>\n",
       "      <td>37.000000</td>\n",
       "      <td>5.000000</td>\n",
       "      <td>97198.540000</td>\n",
       "      <td>1.000000</td>\n",
       "      <td>1.00000</td>\n",
       "      <td>1.000000</td>\n",
       "      <td>100193.915000</td>\n",
       "    </tr>\n",
       "    <tr>\n",
       "      <th>75%</th>\n",
       "      <td>0.000000</td>\n",
       "      <td>1.575323e+07</td>\n",
       "      <td>718.000000</td>\n",
       "      <td>1.000000</td>\n",
       "      <td>1.000000</td>\n",
       "      <td>44.000000</td>\n",
       "      <td>7.000000</td>\n",
       "      <td>127644.240000</td>\n",
       "      <td>2.000000</td>\n",
       "      <td>1.00000</td>\n",
       "      <td>1.000000</td>\n",
       "      <td>149388.247500</td>\n",
       "    </tr>\n",
       "    <tr>\n",
       "      <th>max</th>\n",
       "      <td>1.000000</td>\n",
       "      <td>1.581569e+07</td>\n",
       "      <td>850.000000</td>\n",
       "      <td>2.000000</td>\n",
       "      <td>1.000000</td>\n",
       "      <td>92.000000</td>\n",
       "      <td>10.000000</td>\n",
       "      <td>250898.090000</td>\n",
       "      <td>4.000000</td>\n",
       "      <td>1.00000</td>\n",
       "      <td>1.000000</td>\n",
       "      <td>199992.480000</td>\n",
       "    </tr>\n",
       "  </tbody>\n",
       "</table>\n",
       "</div>"
      ],
      "text/plain": [
       "             Exited    CustomerId   CreditScore     Geography        Gender  \\\n",
       "count  10000.000000  1.000000e+04  10000.000000  10000.000000  10000.000000   \n",
       "mean       0.203700  1.569094e+07    650.528800      0.746300      0.454300   \n",
       "std        0.402769  7.193619e+04     96.653299      0.827529      0.497932   \n",
       "min        0.000000  1.556570e+07    350.000000      0.000000      0.000000   \n",
       "25%        0.000000  1.562853e+07    584.000000      0.000000      0.000000   \n",
       "50%        0.000000  1.569074e+07    652.000000      0.000000      0.000000   \n",
       "75%        0.000000  1.575323e+07    718.000000      1.000000      1.000000   \n",
       "max        1.000000  1.581569e+07    850.000000      2.000000      1.000000   \n",
       "\n",
       "                Age        Tenure        Balance  NumOfProducts    HasCrCard  \\\n",
       "count  10000.000000  10000.000000   10000.000000   10000.000000  10000.00000   \n",
       "mean      38.921800      5.012800   76485.889288       1.530200      0.70550   \n",
       "std       10.487806      2.892174   62397.405202       0.581654      0.45584   \n",
       "min       18.000000      0.000000       0.000000       1.000000      0.00000   \n",
       "25%       32.000000      3.000000       0.000000       1.000000      0.00000   \n",
       "50%       37.000000      5.000000   97198.540000       1.000000      1.00000   \n",
       "75%       44.000000      7.000000  127644.240000       2.000000      1.00000   \n",
       "max       92.000000     10.000000  250898.090000       4.000000      1.00000   \n",
       "\n",
       "       IsActiveMember  EstimatedSalary  \n",
       "count    10000.000000     10000.000000  \n",
       "mean         0.515100    100090.239881  \n",
       "std          0.499797     57510.492818  \n",
       "min          0.000000        11.580000  \n",
       "25%          0.000000     51002.110000  \n",
       "50%          1.000000    100193.915000  \n",
       "75%          1.000000    149388.247500  \n",
       "max          1.000000    199992.480000  "
      ]
     },
     "execution_count": 204,
     "metadata": {},
     "output_type": "execute_result"
    }
   ],
   "source": [
    "df.describe()"
   ]
  },
  {
   "cell_type": "markdown",
   "metadata": {},
   "source": [
    "###### Checking for Class imbalance\n",
    "\n",
    "- 20% Exited (1)\n",
    "- 80% Non Exited (0)"
   ]
  },
  {
   "cell_type": "code",
   "execution_count": 205,
   "metadata": {},
   "outputs": [
    {
     "name": "stdout",
     "output_type": "stream",
     "text": [
      "1 :  0.2037\n",
      "0 :  0.7963\n"
     ]
    }
   ],
   "source": [
    "print(\"1 : \", len(df[df.Exited == 1]) / 10000)\n",
    "print(\"0 : \",len(df[df.Exited == 0]) / 10000)"
   ]
  },
  {
   "cell_type": "markdown",
   "metadata": {},
   "source": [
    "###### Drop unwanted columns\n",
    "\n",
    "Created a numpy array X which contains all of the columns of df except for Surname, Exited and Customer Id. Exited is the response variable while Surname and Customer ID don't give us any useful information. Hence, they are noise so dropped and not included in training the model"
   ]
  },
  {
   "cell_type": "code",
   "execution_count": 206,
   "metadata": {},
   "outputs": [
    {
     "name": "stdout",
     "output_type": "stream",
     "text": [
      "(10000, 10)\n",
      "(10000,)\n"
     ]
    }
   ],
   "source": [
    "X = df.drop(['Surname','Exited', 'CustomerId'], axis=1)\n",
    "y = df['Exited']\n",
    "print(X.shape)\n",
    "print(y.shape)"
   ]
  },
  {
   "cell_type": "markdown",
   "metadata": {},
   "source": [
    "##### Standardize data\n",
    "\n",
    "Though the need to standardize the data isn't so great in classification problems, I did standardize the data using the robust scaler method as it also deals with outliers in the dataset. "
   ]
  },
  {
   "cell_type": "code",
   "execution_count": 207,
   "metadata": {},
   "outputs": [],
   "source": [
    "robust_scaler = RobustScaler()\n",
    "X = robust_scaler.fit_transform(X)"
   ]
  },
  {
   "cell_type": "markdown",
   "metadata": {},
   "source": [
    "##### Split the data into training and test sets"
   ]
  },
  {
   "cell_type": "code",
   "execution_count": 208,
   "metadata": {},
   "outputs": [
    {
     "name": "stdout",
     "output_type": "stream",
     "text": [
      "(8000, 10)\n",
      "(8000,)\n",
      "(2000, 10)\n",
      "(2000,)\n"
     ]
    }
   ],
   "source": [
    "# Split the data into train and test set \n",
    "X_train, X_test, y_train, y_test = train_test_split(X,y,test_size=0.2, random_state=123, stratify=y)\n",
    "print(X_train.shape)\n",
    "print(y_train.shape)\n",
    "print(X_test.shape)\n",
    "print(y_test.shape) "
   ]
  },
  {
   "cell_type": "markdown",
   "metadata": {},
   "source": [
    "### Base Classifier \n",
    "- Use Logistic Regression as the base classifier \n",
    "- Training Logistic Regression Classifier and fit on X_train, y_train (data before SMOTEENN)\n"
   ]
  },
  {
   "cell_type": "code",
   "execution_count": 209,
   "metadata": {},
   "outputs": [
    {
     "name": "stdout",
     "output_type": "stream",
     "text": [
      "\n",
      "\n",
      " -- Logistic Regression Model --\n",
      "-- Logistic Regression Model AUC = 0.68 --\n",
      "              precision    recall  f1-score   support\n",
      "\n",
      "           0       0.89      0.71      0.79      1593\n",
      "           1       0.36      0.65      0.47       407\n",
      "\n",
      "    accuracy                           0.70      2000\n",
      "   macro avg       0.63      0.68      0.63      2000\n",
      "weighted avg       0.78      0.70      0.72      2000\n",
      "\n"
     ]
    }
   ],
   "source": [
    "log_reg = LogisticRegression(class_weight='balanced', \n",
    "                             C=0.01)\n",
    "\n",
    "log_reg.fit(X_train,y_train)\n",
    "print(\"\\n\\n -- Logistic Regression Model --\")\n",
    "log_reg_auc_score = roc_auc_score(y_test,log_reg.predict(X_test))\n",
    "print(\"-- Logistic Regression Model AUC = %2.2f --\" % log_reg_auc_score)\n",
    "print(classification_report(y_test, log_reg.predict(X_test)))"
   ]
  },
  {
   "cell_type": "markdown",
   "metadata": {},
   "source": [
    "##### Handle class imbalance \n",
    "\n",
    "- Used SMOTEENN which combines over- and under-sampling using SMOTE and Edited Nearest Neighbours"
   ]
  },
  {
   "cell_type": "code",
   "execution_count": 210,
   "metadata": {},
   "outputs": [
    {
     "name": "stdout",
     "output_type": "stream",
     "text": [
      "(8000, 10)\n",
      "(8000,)\n",
      "1630\n",
      "6370\n",
      "Shape of X after over sampling  (9826, 10)\n",
      "Shape of y after over sampling (9826,)\n",
      "5544\n",
      "4282\n"
     ]
    }
   ],
   "source": [
    "# class imbalance \n",
    "from imblearn.combine import SMOTEENN\n",
    "print(X_train.shape)\n",
    "print(y_train.shape)\n",
    "print(sum(y_train == 1))\n",
    "print(sum(y_train == 0))\n",
    "\n",
    "sm_upsample = SMOTEENN(sampling_strategy='all') \n",
    "X_res, y_res = sm_upsample.fit_resample(X_train, y_train)\n",
    "\n",
    "print('Shape of X after over sampling ', X_res.shape)\n",
    "print('Shape of y after over sampling', y_res.shape)\n",
    "print(sum(y_res == 1))\n",
    "print(sum(y_res == 0))\n",
    "\n"
   ]
  },
  {
   "cell_type": "markdown",
   "metadata": {},
   "source": [
    "## Perform Hyper-Parameter Tuning for other classifiers"
   ]
  },
  {
   "cell_type": "code",
   "execution_count": 215,
   "metadata": {},
   "outputs": [
    {
     "name": "stdout",
     "output_type": "stream",
     "text": [
      "{'class_weight': 'balanced', 'criterion': 'gini', 'max_depth': 10, 'min_weight_fraction_leaf': 0.001}\n"
     ]
    }
   ],
   "source": [
    "# -- Hyper-parameter tuning for Decision Tree Classifier -- \n",
    "\n",
    "classifier=DecisionTreeClassifier()\n",
    "grid_param = {'criterion': ['gini', 'entropy'],\n",
    "             'class_weight': ['balanced', 'None'],\n",
    "             'max_depth' : [None, 2, 4, 6, 8, 10],\n",
    "             'min_weight_fraction_leaf': [0.001, 0.01 , 0.1]}\n",
    "gd_sr = GridSearchCV(estimator=classifier,\n",
    "                     param_grid=grid_param,\n",
    "                     scoring='roc_auc',\n",
    "                     cv=10,\n",
    "                     n_jobs=-1)\n",
    "# Find the best hyperparamer value of C for logistic regression \n",
    "gd_sr.fit(X_res, y_res)\n",
    "best_parameters = gd_sr.best_params_\n",
    "print(best_parameters)"
   ]
  },
  {
   "cell_type": "code",
   "execution_count": 216,
   "metadata": {},
   "outputs": [
    {
     "name": "stdout",
     "output_type": "stream",
     "text": [
      "{'learning_rate': 0.1, 'n_estimators': 1000}\n"
     ]
    }
   ],
   "source": [
    "# -- Hyper-parameter tuning for AdaBoostClassifier -- \n",
    "\n",
    "\n",
    "classifier=AdaBoostClassifier()\n",
    "grid_param = {'n_estimators': [200, 400, 600, 800, 1000],\n",
    "             'learning_rate': [0.0001, 0.001, 0.01, 0.1]}\n",
    "\n",
    "gd_sr = GridSearchCV(estimator=classifier,\n",
    "                     param_grid=grid_param,\n",
    "                     scoring='roc_auc',\n",
    "                     cv=10,\n",
    "                     n_jobs=-1)\n",
    "\n",
    "gd_sr.fit(X_res, y_res)\n",
    "best_parameters = gd_sr.best_params_\n",
    "print(best_parameters)"
   ]
  },
  {
   "cell_type": "code",
   "execution_count": 218,
   "metadata": {},
   "outputs": [
    {
     "name": "stdout",
     "output_type": "stream",
     "text": [
      "{'class_weight': 'balanced', 'max_depth': None, 'min_samples_split': 10, 'min_weight_fraction_leaf': 0.001, 'n_estimators': 500}\n"
     ]
    }
   ],
   "source": [
    "# -- Hyper-parameter tuning for Random Forest Classifier -- \n",
    "\n",
    "classifier=RandomForestClassifier()\n",
    "\n",
    "grid_param = {'n_estimators': [100, 500, 1000],\n",
    "             'class_weight': ['balanced', 'None'],\n",
    "             'max_depth' : [None, 2, 4, 6, 8,  10],\n",
    "             'min_samples_split': [10, 20, 50, 100],\n",
    "             'min_weight_fraction_leaf': [0.001, 0.01 , 0.1]}\n",
    "\n",
    "gd_sr = GridSearchCV(estimator=classifier,\n",
    "                     param_grid=grid_param,\n",
    "                     scoring='roc_auc',\n",
    "                     cv=10,\n",
    "                     n_jobs=-1)\n",
    "\n",
    "gd_sr.fit(X_res, y_res)\n",
    "best_parameters = gd_sr.best_params_\n",
    "print(best_parameters)"
   ]
  },
  {
   "cell_type": "code",
   "execution_count": 248,
   "metadata": {},
   "outputs": [
    {
     "name": "stdout",
     "output_type": "stream",
     "text": [
      "{'C': 0.1, 'class_weight': 'balanced'}\n"
     ]
    }
   ],
   "source": [
    "# -- Hyper-parameter tuning for Support Vector Machine Classifier -- \n",
    "\n",
    "from sklearn.svm import SVC\n",
    "\n",
    "classifier=SVC()\n",
    "\n",
    "grid_param = {'C': [0.0001, 0.001, 0.01, 0.1],\n",
    "             'class_weight': ['balanced', 'None']}\n",
    "\n",
    "gd_sr = GridSearchCV(estimator=classifier,\n",
    "                     param_grid=grid_param,\n",
    "                     scoring='roc_auc',\n",
    "                     cv=10,\n",
    "                     n_jobs=-1)\n",
    "\n",
    "gd_sr.fit(X_res, y_res)\n",
    "best_parameters = gd_sr.best_params_\n",
    "print(best_parameters)"
   ]
  },
  {
   "cell_type": "markdown",
   "metadata": {},
   "source": [
    "### Decision Tree vs Random Forest vs AdaBoost vs SVM"
   ]
  },
  {
   "cell_type": "code",
   "execution_count": 243,
   "metadata": {},
   "outputs": [
    {
     "name": "stdout",
     "output_type": "stream",
     "text": [
      "\n",
      "\n",
      " ---Decision Tree Model---\n",
      "Decision Tree AUC = 0.77\n",
      "              precision    recall  f1-score   support\n",
      "\n",
      "           0       0.92      0.79      0.85      1593\n",
      "           1       0.47      0.74      0.58       407\n",
      "\n",
      "    accuracy                           0.78      2000\n",
      "   macro avg       0.70      0.77      0.71      2000\n",
      "weighted avg       0.83      0.78      0.80      2000\n",
      "\n",
      "\n",
      "\n",
      " ---AdaBoost Tree Model---\n",
      "AdaBoostClassifier AUC = 0.77\n",
      "              precision    recall  f1-score   support\n",
      "\n",
      "           0       0.94      0.73      0.82      1593\n",
      "           1       0.43      0.80      0.56       407\n",
      "\n",
      "    accuracy                           0.75      2000\n",
      "   macro avg       0.68      0.77      0.69      2000\n",
      "weighted avg       0.83      0.75      0.77      2000\n",
      "\n",
      "\n",
      "\n",
      " ---Random Forest Model---\n",
      "Random Forest AUC = 0.77\n",
      "              precision    recall  f1-score   support\n",
      "\n",
      "           0       0.92      0.79      0.85      1593\n",
      "           1       0.48      0.74      0.58       407\n",
      "\n",
      "    accuracy                           0.78      2000\n",
      "   macro avg       0.70      0.77      0.72      2000\n",
      "weighted avg       0.83      0.78      0.80      2000\n",
      "\n",
      "\n",
      "\n",
      " ---SVM Model---\n",
      "SVM AUC = 0.75\n",
      "              precision    recall  f1-score   support\n",
      "\n",
      "           0       0.92      0.76      0.83      1593\n",
      "           1       0.44      0.74      0.55       407\n",
      "\n",
      "    accuracy                           0.76      2000\n",
      "   macro avg       0.68      0.75      0.69      2000\n",
      "weighted avg       0.82      0.76      0.78      2000\n",
      "\n"
     ]
    }
   ],
   "source": [
    "from sklearn.ensemble import RandomForestClassifier, AdaBoostClassifier\n",
    "from sklearn.tree import DecisionTreeClassifier\n",
    "\n",
    "# Training Decision Tree Classifier\n",
    "dt = DecisionTreeClassifier(class_weight = 'balanced',\n",
    "                                criterion = 'gini', \n",
    "                                max_depth = 8, # was 10 used 8 \n",
    "                                min_weight_fraction_leaf = 0.01) # was 0.001 used 0.01\n",
    "\n",
    "dt.fit(X_res,y_res)\n",
    "print (\"\\n\\n ---Decision Tree Model---\")\n",
    "dt_auc_score = roc_auc_score(y_test, dt.predict(X_test))\n",
    "print (\"Decision Tree AUC = %2.2f\" % dt_auc_score)\n",
    "print(classification_report(y_test, dt.predict(X_test)))\n",
    "\n",
    "\n",
    "# Training AdaBoostClassifier\n",
    "ada = AdaBoostClassifier(n_estimators = 500,\n",
    "                         learning_rate = 0.1)\n",
    "\n",
    "ada.fit(X_res,y_res)\n",
    "print (\"\\n\\n ---AdaBoost Tree Model---\")\n",
    "ada_auc_score = roc_auc_score(y_test, ada.predict(X_test))\n",
    "print (\"AdaBoostClassifier AUC = %2.2f\" % ada_auc_score)\n",
    "print(classification_report(y_test, ada.predict(X_test)))\n",
    "\n",
    "\n",
    "# Training Random Forest Classifier\n",
    "rf = RandomForestClassifier(n_estimators = 500,\n",
    "                            max_depth=None,\n",
    "                            min_samples_split = 10,\n",
    "                            class_weight='balanced',\n",
    "                            min_weight_fraction_leaf = 0.001)\n",
    "                         \n",
    "\n",
    "rf.fit(X_res,y_res)\n",
    "print (\"\\n\\n ---Random Forest Model---\")\n",
    "rf_auc_score = roc_auc_score(y_test, rf.predict(X_test))\n",
    "print (\"Random Forest AUC = %2.2f\" % rf_auc_score)\n",
    "print(classification_report(y_test, rf.predict(X_test)))\n",
    "\n",
    "\n",
    "# Training SVM Classifier\n",
    "svm = SVC(C=0.1, class_weight='balanced',probability=True)\n",
    "\n",
    "svm.fit(X_res,y_res)\n",
    "print (\"\\n\\n ---SVM Model---\")\n",
    "svm_auc_score = roc_auc_score(y_test, svm.predict(X_test))\n",
    "print (\"SVM AUC = %2.2f\" % svm_auc_score)\n",
    "print(classification_report(y_test, svm.predict(X_test)))"
   ]
  },
  {
   "cell_type": "markdown",
   "metadata": {},
   "source": [
    "### ROC Graph for all models"
   ]
  },
  {
   "cell_type": "code",
   "execution_count": 244,
   "metadata": {},
   "outputs": [
    {
     "data": {
      "image/png": "[encoded data removed]",
      "text/plain": [
       "<Figure size 432x288 with 1 Axes>"
      ]
     },
     "metadata": {
      "needs_background": "light"
     },
     "output_type": "display_data"
    }
   ],
   "source": [
    "from sklearn.metrics import roc_curve\n",
    "fpr, tpr, thresholds = roc_curve(y_test, log_reg.predict_proba(X_test)[:,1])\n",
    "rf_fpr, rf_tpr, rf_thresholds = roc_curve(y_test, rf.predict_proba(X_test)[:,1])\n",
    "dt_fpr, dt_tpr, dt_thresholds = roc_curve(y_test, dt.predict_proba(X_test)[:,1])\n",
    "ada_fpr, ada_tpr, ada_thresholds = roc_curve(y_test, ada.predict_proba(X_test)[:,1])\n",
    "svm_fpr, svm_tpr, svm_thresholds = roc_curve(y_test, svm.predict_proba(X_test)[:,1])\n",
    "\n",
    "\n",
    "plt.figure()\n",
    "\n",
    "# Plot Logistic Regression ROC\n",
    "plt.plot(fpr, tpr, label='Logistic Regression (area = %0.2f)' % log_reg_auc_score)\n",
    "\n",
    "# Plot Random Forest ROC\n",
    "plt.plot(rf_fpr, rf_tpr, label='Random Forest (area = %0.2f)' % rf_auc_score)\n",
    "\n",
    "# # Plot Decision Tree ROC\n",
    "plt.plot(dt_fpr, dt_tpr, label='Decision Tree (area = %0.2f)' % dt_auc_score)\n",
    "\n",
    "# Plot AdaBoost ROC\n",
    "plt.plot(ada_fpr, ada_tpr, label='AdaBoost (area = %0.2f)' % ada_auc_score)\n",
    "\n",
    "# Plot SVM ROC\n",
    "plt.plot(svm_fpr, svm_tpr, label='SVM (area = %0.2f)' % svm_auc_score)\n",
    "\n",
    "# Plot Base Rate ROC\n",
    "plt.plot([0,1], [0,1],label='Base Rate')\n",
    "\n",
    "plt.xlim([0.0, 1.0])\n",
    "plt.ylim([0.0, 1.05])\n",
    "plt.xlabel('False Positive Rate')\n",
    "plt.ylabel('True Positive Rate')\n",
    "plt.title('ROC Graph')\n",
    "plt.legend(loc=\"lower right\")\n",
    "plt.show()"
   ]
  },
  {
   "cell_type": "markdown",
   "metadata": {},
   "source": [
    "### Visualize Decision Tree Feature Importance"
   ]
  },
  {
   "cell_type": "code",
   "execution_count": 249,
   "metadata": {},
   "outputs": [
    {
     "data": {
      "image/png": "[encoded data removed]",
      "text/plain": [
       "<Figure size 720x360 with 1 Axes>"
      ]
     },
     "metadata": {
      "needs_background": "light"
     },
     "output_type": "display_data"
    }
   ],
   "source": [
    "# Plot Decision Tree feature importance\n",
    "\n",
    "importances = dt.feature_importances_\n",
    "feature_names = df.drop(['Surname','Exited', 'CustomerId'], axis=1).columns\n",
    "\n",
    "indices = np.argsort(importances)[::-1]\n",
    "\n",
    "# Create plot\n",
    "plt.figure(figsize=(10,5))\n",
    "\n",
    "# Create plot title\n",
    "plt.title(\"Feature Importances by Decision Tree Classifier\")\n",
    "\n",
    "# Add bars\n",
    "plt.bar(range(len(indices)), importances[indices], color='blue', align='center')\n",
    "\n",
    "# Add step\n",
    "plt.step(range(len(indices)), np.cumsum(importances[indices]), where='mid', label='Cumulative')\n",
    "\n",
    "# Add feature names as x-axis labels\n",
    "plt.xticks(range(len(indices)), feature_names[indices], rotation='vertical', fontsize = 12)\n",
    "\n",
    "# Show plot\n",
    "plt.show()"
   ]
  }
 ],
 "metadata": {
  "kernelspec": {
   "display_name": "Python 3",
   "language": "python",
   "name": "python3"
  },
  "language_info": {
   "codemirror_mode": {
    "name": "ipython",
    "version": 3
   },
   "file_extension": ".py",
   "mimetype": "text/x-python",
   "name": "python",
   "nbconvert_exporter": "python",
   "pygments_lexer": "ipython3",
   "version": "3.7.3"
  }
 },
 "nbformat": 4,
 "nbformat_minor": 2
}
